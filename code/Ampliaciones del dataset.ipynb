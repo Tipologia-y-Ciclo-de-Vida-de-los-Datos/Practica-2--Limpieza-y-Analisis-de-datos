{
 "cells": [
  {
   "cell_type": "markdown",
   "id": "4af4102e",
   "metadata": {},
   "source": [
    "# Creación y agrupación de los datos para el dataset"
   ]
  },
  {
   "cell_type": "markdown",
   "id": "5a72d624",
   "metadata": {},
   "source": [
    "A pesar de que la limpieza general del dataset se llevará a cabo en la solución principal creada en RStudio, queremos complementar la información extraída en la Práctica 1. Esta sería el datatset inicial \"cost_of_living_countries.csv\".\n",
    "\n",
    "Para ello, añadiremos a los datos de [Expatistan](https://www.expatistan.com/check/humanity) los siguientes datos recopilados mediante Excel:\n",
    "\n",
    "- El PIB anual por país de la web [Expansion/PIB](https://datosmacro.expansion.com/pib)\n",
    "\n",
    "- El Salario Mínimo Interprofesional por país de la web [Expansion/SMI](https://datosmacro.expansion.com/smi)\n",
    "\n",
    "Además, para los datos inconclusos del SMI usaremos en la solución de RStudio, en el apartado de limpeiza los siguientes datos:\n",
    "\n",
    "- La Cotización de divisas a día 10/06/2023 frente al Euro en [Expansion/divisas](https://datosmacro.expansion.com/divisas)\n",
    "\n",
    "Previamente a este notebook, se han hecho las siguientes modificaciones a cada subdataset mediante el Power Query de Excel para agilizar el proceso:\n",
    "\n",
    "- Eliminar columnas innecesarias y/o vacías\n",
    "\n",
    "- Renombrar columnas por nombres más explicativos (ex: SMI y SMI2 por SMI (dolares) y SMI (euros))"
   ]
  },
  {
   "cell_type": "markdown",
   "id": "565478c1",
   "metadata": {},
   "source": [
    "## 0. Imports y settings"
   ]
  },
  {
   "cell_type": "code",
   "execution_count": 1,
   "id": "4c367187",
   "metadata": {},
   "outputs": [
    {
     "name": "stdout",
     "output_type": "stream",
     "text": [
      "Requirement already satisfied: mtranslate in c:\\users\\isa31\\anaconda3\\lib\\site-packages (1.8)\n",
      "Note: you may need to restart the kernel to use updated packages.\n"
     ]
    }
   ],
   "source": [
    "pip install mtranslate"
   ]
  },
  {
   "cell_type": "code",
   "execution_count": 2,
   "id": "fec1ff25",
   "metadata": {},
   "outputs": [],
   "source": [
    "import pandas as pd\n",
    "import numpy as np\n",
    "from mtranslate import translate"
   ]
  },
  {
   "cell_type": "markdown",
   "id": "282b6088",
   "metadata": {},
   "source": [
    "## 1. Carga de los datos\n",
    "Cargaremos el Excel que recopila, en 3 hojas distintas, los valores el PIB, el SMI y la cotización de divisas por país y el dataset original de la práctica 1. Para la primera parte, solo cargaremos el PIB y el SMI:"
   ]
  },
  {
   "cell_type": "code",
   "execution_count": 18,
   "id": "4a3d4664",
   "metadata": {},
   "outputs": [],
   "source": [
    "# Primeros cargamos las hojas del excel de ampliación\n",
    "PIB = pd.read_excel(\"../datasets/PBI_SMI_divisas.xlsx\", sheet_name = \"PIB\", index_col=None)\n",
    "SMI = pd.read_excel(\"../datasets/PBI_SMI_divisas.xlsx\", sheet_name = \"SMI\", index_col=None)\n",
    "SMI = SMI.drop(['SMI Mon. Local', 'SMI Mon. Local2'], axis=1)"
   ]
  },
  {
   "cell_type": "code",
   "execution_count": 19,
   "id": "87ef433f",
   "metadata": {},
   "outputs": [],
   "source": [
    "# Ahora cargaremos el dataset original\n",
    "cost_countries = pd.read_csv(\"../datasets/cost_of_living_countries.csv\", index_col=None)\n",
    "cost_countries['Country'] = cost_countries['Country'].str.upper()"
   ]
  },
  {
   "cell_type": "markdown",
   "id": "9aad7a12",
   "metadata": {},
   "source": [
    "## 2. Unión de los datasets de ampliación\n",
    "Dado que todos presentan la misma columna países, procederemos a unirlos en un único dataset:"
   ]
  },
  {
   "cell_type": "code",
   "execution_count": 20,
   "id": "c18b28fb",
   "metadata": {},
   "outputs": [],
   "source": [
    "dataset_ampliacion = pd.merge(PIB, SMI, on='Países', how='left')"
   ]
  },
  {
   "cell_type": "code",
   "execution_count": 21,
   "id": "99c2e300",
   "metadata": {},
   "outputs": [
    {
     "data": {
      "text/html": [
       "<div>\n",
       "<style scoped>\n",
       "    .dataframe tbody tr th:only-of-type {\n",
       "        vertical-align: middle;\n",
       "    }\n",
       "\n",
       "    .dataframe tbody tr th {\n",
       "        vertical-align: top;\n",
       "    }\n",
       "\n",
       "    .dataframe thead th {\n",
       "        text-align: right;\n",
       "    }\n",
       "</style>\n",
       "<table border=\"1\" class=\"dataframe\">\n",
       "  <thead>\n",
       "    <tr style=\"text-align: right;\">\n",
       "      <th></th>\n",
       "      <th>Países</th>\n",
       "      <th>PIB anual</th>\n",
       "      <th>SMI (dolares)</th>\n",
       "      <th>SMI (euros)</th>\n",
       "    </tr>\n",
       "  </thead>\n",
       "  <tbody>\n",
       "    <tr>\n",
       "      <th>0</th>\n",
       "      <td>España [+]</td>\n",
       "      <td>1.328.922 M€</td>\n",
       "      <td>1.343,9 $</td>\n",
       "      <td>1.260,0 €</td>\n",
       "    </tr>\n",
       "    <tr>\n",
       "      <th>1</th>\n",
       "      <td>Alemania [+]</td>\n",
       "      <td>3.869.900 M€</td>\n",
       "      <td>2.119,3 $</td>\n",
       "      <td>1.987,0 €</td>\n",
       "    </tr>\n",
       "    <tr>\n",
       "      <th>2</th>\n",
       "      <td>Reino Unido [+]</td>\n",
       "      <td>2.913.623 M€</td>\n",
       "      <td>1.952,7 $</td>\n",
       "      <td>1.929,2 €</td>\n",
       "    </tr>\n",
       "    <tr>\n",
       "      <th>3</th>\n",
       "      <td>Francia [+]</td>\n",
       "      <td>2.639.092 M€</td>\n",
       "      <td>1.823,1 $</td>\n",
       "      <td>1.709,3 €</td>\n",
       "    </tr>\n",
       "    <tr>\n",
       "      <th>4</th>\n",
       "      <td>Italia [+]</td>\n",
       "      <td>1.909.154 M€</td>\n",
       "      <td>NaN</td>\n",
       "      <td>NaN</td>\n",
       "    </tr>\n",
       "  </tbody>\n",
       "</table>\n",
       "</div>"
      ],
      "text/plain": [
       "            Países     PIB anual SMI (dolares) SMI (euros)\n",
       "0       España [+]  1.328.922 M€     1.343,9 $   1.260,0 €\n",
       "1     Alemania [+]  3.869.900 M€     2.119,3 $   1.987,0 €\n",
       "2  Reino Unido [+]  2.913.623 M€     1.952,7 $   1.929,2 €\n",
       "3      Francia [+]  2.639.092 M€     1.823,1 $   1.709,3 €\n",
       "4       Italia [+]  1.909.154 M€           NaN         NaN"
      ]
     },
     "execution_count": 21,
     "metadata": {},
     "output_type": "execute_result"
    }
   ],
   "source": [
    "dataset_ampliacion.head()"
   ]
  },
  {
   "cell_type": "markdown",
   "id": "0e4205e2",
   "metadata": {},
   "source": [
    "## 3. Ajustar la variables común Países a la variable Country\n",
    "El puente de unión entre el dataset original y el de ampliación son los países. Sin embargo, están en diferentes idiomas: el original en inglés y el de ampliación en español y con caracteres extraños. Procederemos a limpiar estos caracteres y traducir los nombres de los países al inglés:"
   ]
  },
  {
   "cell_type": "code",
   "execution_count": 22,
   "id": "6e7fd47f",
   "metadata": {},
   "outputs": [],
   "source": [
    "# Eliminamos los caracteres \" [+]\" del final de cada nombre de país y los países repetidos\n",
    "dataset_ampliacion['Países'] = dataset_ampliacion['Países'].str[:-4]\n",
    "dataset_ampliacion = dataset_ampliacion.drop_duplicates(subset='Países')"
   ]
  },
  {
   "cell_type": "code",
   "execution_count": 23,
   "id": "53e1ec70",
   "metadata": {},
   "outputs": [],
   "source": [
    "# Definimos el traductor\n",
    "def translate_country(nombre_pais):\n",
    "    try:\n",
    "        nombre_ingles = translate(nombre_pais, 'en', 'auto')\n",
    "        return nombre_ingles.upper()\n",
    "    except Exception as e:\n",
    "        print(f\"Error al traducir {nombre_pais}: {str(e)}\")\n",
    "\n",
    "# Amplicamos el traductor\n",
    "dataset_ampliacion['Country'] = dataset_ampliacion['Países'].apply(translate_country)"
   ]
  },
  {
   "cell_type": "code",
   "execution_count": 24,
   "id": "a8331b0a",
   "metadata": {},
   "outputs": [],
   "source": [
    "# Dado que el traductor tiene sus pequeños fallos, los corregiremos\n",
    "dataset_ampliacion['Country'] = dataset_ampliacion['Country'].replace({' Y ':' AND '}, regex=True)\n",
    "dataset_ampliacion['Country'] = dataset_ampliacion['Country'].replace({'SWISS':'SWITZERLAND'}, regex=True)\n",
    "dataset_ampliacion = dataset_ampliacion.drop('Países', axis=1)"
   ]
  },
  {
   "cell_type": "code",
   "execution_count": 25,
   "id": "c20b6f96",
   "metadata": {},
   "outputs": [
    {
     "data": {
      "text/html": [
       "<div>\n",
       "<style scoped>\n",
       "    .dataframe tbody tr th:only-of-type {\n",
       "        vertical-align: middle;\n",
       "    }\n",
       "\n",
       "    .dataframe tbody tr th {\n",
       "        vertical-align: top;\n",
       "    }\n",
       "\n",
       "    .dataframe thead th {\n",
       "        text-align: right;\n",
       "    }\n",
       "</style>\n",
       "<table border=\"1\" class=\"dataframe\">\n",
       "  <thead>\n",
       "    <tr style=\"text-align: right;\">\n",
       "      <th></th>\n",
       "      <th>PIB anual</th>\n",
       "      <th>SMI (dolares)</th>\n",
       "      <th>SMI (euros)</th>\n",
       "      <th>Country</th>\n",
       "    </tr>\n",
       "  </thead>\n",
       "  <tbody>\n",
       "    <tr>\n",
       "      <th>0</th>\n",
       "      <td>1.328.922 M€</td>\n",
       "      <td>1.343,9 $</td>\n",
       "      <td>1.260,0 €</td>\n",
       "      <td>SPAIN</td>\n",
       "    </tr>\n",
       "    <tr>\n",
       "      <th>1</th>\n",
       "      <td>3.869.900 M€</td>\n",
       "      <td>2.119,3 $</td>\n",
       "      <td>1.987,0 €</td>\n",
       "      <td>GERMANY</td>\n",
       "    </tr>\n",
       "    <tr>\n",
       "      <th>2</th>\n",
       "      <td>2.913.623 M€</td>\n",
       "      <td>1.952,7 $</td>\n",
       "      <td>1.929,2 €</td>\n",
       "      <td>UNITED KINGDOM</td>\n",
       "    </tr>\n",
       "    <tr>\n",
       "      <th>3</th>\n",
       "      <td>2.639.092 M€</td>\n",
       "      <td>1.823,1 $</td>\n",
       "      <td>1.709,3 €</td>\n",
       "      <td>FRANCE</td>\n",
       "    </tr>\n",
       "    <tr>\n",
       "      <th>4</th>\n",
       "      <td>1.909.154 M€</td>\n",
       "      <td>NaN</td>\n",
       "      <td>NaN</td>\n",
       "      <td>ITALIA</td>\n",
       "    </tr>\n",
       "  </tbody>\n",
       "</table>\n",
       "</div>"
      ],
      "text/plain": [
       "      PIB anual SMI (dolares) SMI (euros)         Country\n",
       "0  1.328.922 M€     1.343,9 $   1.260,0 €           SPAIN\n",
       "1  3.869.900 M€     2.119,3 $   1.987,0 €         GERMANY\n",
       "2  2.913.623 M€     1.952,7 $   1.929,2 €  UNITED KINGDOM\n",
       "3  2.639.092 M€     1.823,1 $   1.709,3 €          FRANCE\n",
       "4  1.909.154 M€           NaN         NaN          ITALIA"
      ]
     },
     "execution_count": 25,
     "metadata": {},
     "output_type": "execute_result"
    }
   ],
   "source": [
    "dataset_ampliacion.head()"
   ]
  },
  {
   "cell_type": "markdown",
   "id": "2ce102b1",
   "metadata": {},
   "source": [
    "## 4. Unión final"
   ]
  },
  {
   "cell_type": "code",
   "execution_count": 26,
   "id": "85165e40",
   "metadata": {},
   "outputs": [],
   "source": [
    "final_dataset = pd.merge(cost_countries, dataset_ampliacion, on='Country', how='left')"
   ]
  },
  {
   "cell_type": "code",
   "execution_count": 27,
   "id": "9789e1b3",
   "metadata": {},
   "outputs": [],
   "source": [
    "paises_nan_smi = final_dataset[final_dataset['SMI (euros)'].isna()][['Country', 'PIB anual', 'SMI (euros)']]"
   ]
  },
  {
   "cell_type": "code",
   "execution_count": 28,
   "id": "cb54de44",
   "metadata": {},
   "outputs": [
    {
     "data": {
      "text/plain": [
       "{'AUSTRIA',\n",
       " 'DENMARK',\n",
       " 'FINLAND',\n",
       " 'GUYANA',\n",
       " 'NORWAY',\n",
       " 'SINGAPORE',\n",
       " 'SWEDEN',\n",
       " 'UNITED ARAB EMIRATES',\n",
       " 'VENEZUELA',\n",
       " 'VIETNAM'}"
      ]
     },
     "execution_count": 28,
     "metadata": {},
     "output_type": "execute_result"
    }
   ],
   "source": [
    "# Paises con SMI nulo pero PBI no nulo\n",
    "set(paises_nan_smi[paises_nan_smi['PIB anual'].notna()]['Country'])"
   ]
  },
  {
   "cell_type": "code",
   "execution_count": 29,
   "id": "f26e709b",
   "metadata": {},
   "outputs": [
    {
     "data": {
      "text/plain": [
       "{'AUSTRIA',\n",
       " 'BERMUDA',\n",
       " 'CAYMAN ISLANDS',\n",
       " 'DENMARK',\n",
       " 'FIJI',\n",
       " 'FINLAND',\n",
       " 'GUYANA',\n",
       " 'ITALY',\n",
       " 'KOSOVO',\n",
       " 'MACAO',\n",
       " 'MAURITIUS',\n",
       " 'NORWAY',\n",
       " 'PALESTINIAN TERRITORY',\n",
       " 'PHILIPPINES',\n",
       " 'SINGAPORE',\n",
       " 'SWEDEN',\n",
       " 'UNITED ARAB EMIRATES',\n",
       " 'UNITED STATES',\n",
       " 'VENEZUELA',\n",
       " 'VIETNAM'}"
      ]
     },
     "execution_count": 29,
     "metadata": {},
     "output_type": "execute_result"
    }
   ],
   "source": [
    "# Paises con el SMI nulo\n",
    "set(paises_nan_smi['Country'])"
   ]
  },
  {
   "cell_type": "code",
   "execution_count": 30,
   "id": "04f552d2",
   "metadata": {},
   "outputs": [],
   "source": [
    "final_dataset.to_csv('cost_of_living_countries_updated.csv', index=False)"
   ]
  },
  {
   "cell_type": "code",
   "execution_count": null,
   "id": "8c8e45c3",
   "metadata": {},
   "outputs": [],
   "source": []
  }
 ],
 "metadata": {
  "kernelspec": {
   "display_name": "Python 3 (ipykernel)",
   "language": "python",
   "name": "python3"
  },
  "language_info": {
   "codemirror_mode": {
    "name": "ipython",
    "version": 3
   },
   "file_extension": ".py",
   "mimetype": "text/x-python",
   "name": "python",
   "nbconvert_exporter": "python",
   "pygments_lexer": "ipython3",
   "version": "3.8.12"
  }
 },
 "nbformat": 4,
 "nbformat_minor": 5
}
